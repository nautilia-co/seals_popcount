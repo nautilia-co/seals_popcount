{
 "cells": [
  {
   "cell_type": "markdown",
   "metadata": {},
   "source": [
    "# Binary Classification using InceptionResNetV2"
   ]
  },
  {
   "cell_type": "markdown",
   "metadata": {},
   "source": [
    "This notebook aims to showcase an InceptionResNetV2 classifier that was trained on 18,000 example image tiles of size 256 * 256 * 3"
   ]
  },
  {
   "cell_type": "code",
   "execution_count": 1,
   "metadata": {
    "pycharm": {
     "is_executing": false
    }
   },
   "outputs": [
    {
     "name": "stderr",
     "output_type": "stream",
     "text": [
      "Using TensorFlow backend.\n",
      "/Users/mahmoud/.conda/envs/cuda9-keras-tf/lib/python3.6/site-packages/tensorflow/python/framework/dtypes.py:523: FutureWarning: Passing (type, 1) or '1type' as a synonym of type is deprecated; in a future version of numpy, it will be understood as (type, (1,)) / '(1,)type'.\n",
      "  _np_qint8 = np.dtype([(\"qint8\", np.int8, 1)])\n",
      "/Users/mahmoud/.conda/envs/cuda9-keras-tf/lib/python3.6/site-packages/tensorflow/python/framework/dtypes.py:524: FutureWarning: Passing (type, 1) or '1type' as a synonym of type is deprecated; in a future version of numpy, it will be understood as (type, (1,)) / '(1,)type'.\n",
      "  _np_quint8 = np.dtype([(\"quint8\", np.uint8, 1)])\n",
      "/Users/mahmoud/.conda/envs/cuda9-keras-tf/lib/python3.6/site-packages/tensorflow/python/framework/dtypes.py:525: FutureWarning: Passing (type, 1) or '1type' as a synonym of type is deprecated; in a future version of numpy, it will be understood as (type, (1,)) / '(1,)type'.\n",
      "  _np_qint16 = np.dtype([(\"qint16\", np.int16, 1)])\n",
      "/Users/mahmoud/.conda/envs/cuda9-keras-tf/lib/python3.6/site-packages/tensorflow/python/framework/dtypes.py:526: FutureWarning: Passing (type, 1) or '1type' as a synonym of type is deprecated; in a future version of numpy, it will be understood as (type, (1,)) / '(1,)type'.\n",
      "  _np_quint16 = np.dtype([(\"quint16\", np.uint16, 1)])\n",
      "/Users/mahmoud/.conda/envs/cuda9-keras-tf/lib/python3.6/site-packages/tensorflow/python/framework/dtypes.py:527: FutureWarning: Passing (type, 1) or '1type' as a synonym of type is deprecated; in a future version of numpy, it will be understood as (type, (1,)) / '(1,)type'.\n",
      "  _np_qint32 = np.dtype([(\"qint32\", np.int32, 1)])\n",
      "/Users/mahmoud/.conda/envs/cuda9-keras-tf/lib/python3.6/site-packages/tensorflow/python/framework/dtypes.py:532: FutureWarning: Passing (type, 1) or '1type' as a synonym of type is deprecated; in a future version of numpy, it will be understood as (type, (1,)) / '(1,)type'.\n",
      "  np_resource = np.dtype([(\"resource\", np.ubyte, 1)])\n"
     ]
    }
   ],
   "source": [
    "# Imports, util function\n",
    "import numpy as np\n",
    "from keras.models import load_model\n",
    "import cv2\n",
    "import matplotlib.pyplot as plt\n",
    "import os\n",
    "\n",
    "\n",
    "def predict_image(model, image_path):\n",
    "    image = cv2.imread(image_path)\n",
    "    image = image / 255\n",
    "    res = model.predict(np.expand_dims(image, 0))\n",
    "    if (res[0][0] > res[0][1]):\n",
    "        classification = 'NO SEAL'\n",
    "    else:\n",
    "        classification = 'SEAL EXISTS'\n",
    "    return image, res, classification"
   ]
  },
  {
   "cell_type": "code",
   "execution_count": 2,
   "metadata": {
    "pycharm": {
     "is_executing": false
    }
   },
   "outputs": [
    {
     "name": "stdout",
     "output_type": "stream",
     "text": [
      "model is ready\n"
     ]
    }
   ],
   "source": [
    "# Load the model\n",
    "model_path = 'trained_models/' # TO BE SET\n",
    "model = load_model(model_path)\n",
    "print('model is ready')"
   ]
  },
  {
   "cell_type": "markdown",
   "metadata": {},
   "source": [
    "# Example predictions:"
   ]
  },
  {
   "cell_type": "markdown",
   "metadata": {},
   "source": [
    "Please check 'notebooks/example_data/' for more image tile examples that were manually extracted from the unlabelled test set"
   ]
  },
  {
   "cell_type": "markdown",
   "metadata": {},
   "source": [
    "## True positive"
   ]
  },
  {
   "cell_type": "code",
   "execution_count": 3,
   "metadata": {
    "pycharm": {
     "is_executing": true
    }
   },
   "outputs": [
    {
     "name": "stdout",
     "output_type": "stream",
     "text": [
      "Image name: 8__r_0.6__i_[10]__j_[7].jpg\n",
      "Raw prediction: [[0.09347277 0.9065273 ]]\n",
      "Predicted class: SEAL EXISTS\n"
     ]
    }
   ],
   "source": [
    "# Load and test example image\n",
    "dir_path = '../example_data/'\n",
    "sub_dir_path = dir_path + 'seals/'\n",
    "images_with_seals = [i for i in os.listdir(sub_dir_path) if i.endswith('.jpg')]\n",
    "image_index = 0\n",
    "image_path = sub_dir_path + images_with_seals[image_index]\n",
    "\n",
    "image, raw_results, predicted_class = predict_image(model, image_path)\n",
    "print('Image name: ' + images_with_seals[image_index])\n",
    "print('Raw prediction: ' + str(raw_results))  # Raw prediction format: [no seal, seal exists]\n",
    "print('Predicted class: ' + predicted_class)\n",
    "# plt.imshow(image)  # unknown kernel error"
   ]
  },
  {
   "cell_type": "markdown",
   "metadata": {},
   "source": [
    "## True negative"
   ]
  },
  {
   "cell_type": "code",
   "execution_count": null,
   "metadata": {
    "pycharm": {
     "is_executing": true
    }
   },
   "outputs": [],
   "source": [
    "# Load and test example image\n",
    "dir_path = '../example_data/'\n",
    "sub_dir_path = dir_path + 'no_seals/'\n",
    "images_without_seals = [i for i in os.listdir(sub_dir_path) if i.endswith('.jpg')]\n",
    "image_index = 0\n",
    "image_path = sub_dir_path + images_without_seals[image_index]\n",
    "\n",
    "image, raw_results, predicted_class = predict_image(model, image_path)\n",
    "print('Image name: ' + images_with_seals[image_index])\n",
    "print('Raw prediction: ' + str(raw_results))  # Raw prediction format: [no seal, seal exists]\n",
    "print('Predicted class: ' + predicted_class)\n",
    "# plt.imshow(image)  # unknown kernel error"
   ]
  },
  {
   "cell_type": "code",
   "execution_count": null,
   "metadata": {},
   "outputs": [],
   "source": []
  }
 ],
 "metadata": {
  "kernelspec": {
   "display_name": "Python 3",
   "language": "python",
   "name": "python3"
  },
  "language_info": {
   "codemirror_mode": {
    "name": "ipython",
    "version": 3
   },
   "file_extension": ".py",
   "mimetype": "text/x-python",
   "name": "python",
   "nbconvert_exporter": "python",
   "pygments_lexer": "ipython3",
   "version": "3.6.9"
  },
  "pycharm": {
   "stem_cell": {
    "cell_type": "raw",
    "source": [],
    "metadata": {
     "collapsed": false
    }
   }
  }
 },
 "nbformat": 4,
 "nbformat_minor": 1
}